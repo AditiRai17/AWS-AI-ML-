{
 "cells": [
  {
   "cell_type": "code",
   "execution_count": 1,
   "metadata": {
    "edited": true,
    "gradable": true,
    "grader_id": "ii23h3xxq2o",
    "udacity_user_query": ""
   },
   "outputs": [],
   "source": [
    "points = 174  # use this input to make your submission\n",
    "\n",
    "# write your if statement here\n",
    "prize_name=\"\"\n",
    "found=0\n",
    "\n",
    "if points>=0 and points<=50 :\n",
    "    prize_name=\"wooden rabbit\"\n",
    "    found=1\n",
    "elif points>=51 and points<=150 :\n",
    "    found=0\n",
    "elif points>=151 and points<=180 :\n",
    "    prize_name=\"wafer-thin mint\"\n",
    "    found=1\n",
    "elif points>=181 and points<=200 :\n",
    "    prize_name=\"penguin\"\n",
    "    found=1\n",
    "\n",
    "\n",
    "if found==1:\n",
    "    result = f\"Congratulations! You won a {prize_name}!\" # replace None with appropriate code\n",
    "else:\n",
    "    result = \"Oh dear, no prize this time.\""
   ]
  },
  {
   "cell_type": "code",
   "execution_count": null,
   "metadata": {},
   "outputs": [],
   "source": []
  }
 ],
 "metadata": {
  "grader_mode": "",
  "kernelspec": {
   "display_name": "Python 3",
   "language": "python",
   "name": "python3"
  },
  "language_info": {
   "codemirror_mode": {
    "name": "ipython",
    "version": 3
   },
   "file_extension": ".py",
   "mimetype": "text/x-python",
   "name": "python",
   "nbconvert_exporter": "python",
   "pygments_lexer": "ipython3",
   "version": "3.6.3"
  },
  "showGradeBtn": true
 },
 "nbformat": 4,
 "nbformat_minor": 2
}
